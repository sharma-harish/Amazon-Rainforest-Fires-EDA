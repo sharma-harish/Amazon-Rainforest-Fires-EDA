{
 "cells": [
  {
   "cell_type": "markdown",
   "metadata": {},
   "source": [
    "# Preface\n",
    "Forest fires have become a grave threat for fauna and flora of Amazon rainforests. The agriculture sector has been relentlessly pushing into the rainforests, cutting down trees and burning the forests. All this has been taking place under the nose of the ignorant Brazilian Government even after widespread international protests.\n",
    "I have done an in-depth analysis of Forest fires in Brazil from 1997 through 2018. The data is obtained from the official website of the Brazilian government."
   ]
  },
  {
   "cell_type": "markdown",
   "metadata": {},
   "source": [
    "# Data\n",
    "The dataset contains monthly count of forest fires in several states of Brazil.<br>\n",
    "Columns:<br>\n",
    "year: Year of fire (1998 - 2017)<br>\n",
    "state: State where fire took place. <br>\n",
    "    &emsp;&emsp;'Acre',<br> \n",
    "    &emsp;&emsp;'Alagoas',<br> &emsp;&emsp;'Amapa',<br> &emsp;&emsp;'Amazonas',<br> &emsp;&emsp;'Bahia',<br>&emsp;&emsp; 'Ceara',<br>\n",
    "       &emsp;&emsp;'Distrito Federal',<br> &emsp;&emsp;'Espirito Santo',<br> &emsp;&emsp;'Goias',<br> &emsp;&emsp;'Maranhao',<br>\n",
    "       &emsp;&emsp;'Mato Grosso',<br> &emsp;&emsp;'Minas Gerais',<br> &emsp;&emsp;'Pará',<br> &emsp;&emsp;'Paraiba',<br> &emsp;&emsp;'Pernambuco',<br>\n",
    "       &emsp;&emsp;'Piau',<br> &emsp;&emsp;'Rio',<br> &emsp;&emsp;'Rondonia',<br> &emsp;&emsp;'Roraima',<br> &emsp;&emsp;'Santa Catarina',<br>\n",
    "       &emsp;&emsp;'Sao Paulo',<br> &emsp;&emsp;'Sergipe',<br> &emsp;&emsp;'Tocantins'<br>\n",
    "month: Month of fire. (Jan-Dec)<br>\n",
    "date: 1st Jan of year of fire. (redundant, hence removed)\n"
   ]
  },
  {
   "cell_type": "code",
   "execution_count": 1,
   "metadata": {},
   "outputs": [],
   "source": [
    "# imports\n",
    "import numpy as np\n",
    "import pandas as pd\n",
    "from ipywidgets import interact\n",
    "import seaborn as sns\n",
    "import matplotlib.pyplot as plt\n",
    "%matplotlib inline"
   ]
  },
  {
   "cell_type": "code",
   "execution_count": 2,
   "metadata": {},
   "outputs": [
    {
     "data": {
      "text/html": [
       "<div>\n",
       "<style scoped>\n",
       "    .dataframe tbody tr th:only-of-type {\n",
       "        vertical-align: middle;\n",
       "    }\n",
       "\n",
       "    .dataframe tbody tr th {\n",
       "        vertical-align: top;\n",
       "    }\n",
       "\n",
       "    .dataframe thead th {\n",
       "        text-align: right;\n",
       "    }\n",
       "</style>\n",
       "<table border=\"1\" class=\"dataframe\">\n",
       "  <thead>\n",
       "    <tr style=\"text-align: right;\">\n",
       "      <th></th>\n",
       "      <th>year</th>\n",
       "      <th>state</th>\n",
       "      <th>month</th>\n",
       "      <th>number</th>\n",
       "    </tr>\n",
       "  </thead>\n",
       "  <tbody>\n",
       "    <tr>\n",
       "      <td>0</td>\n",
       "      <td>1998</td>\n",
       "      <td>Acre</td>\n",
       "      <td>Jan</td>\n",
       "      <td>0.0</td>\n",
       "    </tr>\n",
       "    <tr>\n",
       "      <td>1</td>\n",
       "      <td>1999</td>\n",
       "      <td>Acre</td>\n",
       "      <td>Jan</td>\n",
       "      <td>0.0</td>\n",
       "    </tr>\n",
       "    <tr>\n",
       "      <td>2</td>\n",
       "      <td>2000</td>\n",
       "      <td>Acre</td>\n",
       "      <td>Jan</td>\n",
       "      <td>0.0</td>\n",
       "    </tr>\n",
       "    <tr>\n",
       "      <td>3</td>\n",
       "      <td>2001</td>\n",
       "      <td>Acre</td>\n",
       "      <td>Jan</td>\n",
       "      <td>0.0</td>\n",
       "    </tr>\n",
       "    <tr>\n",
       "      <td>4</td>\n",
       "      <td>2002</td>\n",
       "      <td>Acre</td>\n",
       "      <td>Jan</td>\n",
       "      <td>0.0</td>\n",
       "    </tr>\n",
       "  </tbody>\n",
       "</table>\n",
       "</div>"
      ],
      "text/plain": [
       "   year state month  number\n",
       "0  1998  Acre   Jan     0.0\n",
       "1  1999  Acre   Jan     0.0\n",
       "2  2000  Acre   Jan     0.0\n",
       "3  2001  Acre   Jan     0.0\n",
       "4  2002  Acre   Jan     0.0"
      ]
     },
     "execution_count": 2,
     "metadata": {},
     "output_type": "execute_result"
    }
   ],
   "source": [
    "# importing the dataset.\n",
    "df = pd.read_csv('amazon.csv', encoding='latin1')\n",
    "df = df.drop('date', axis = 1) #removing 'date' column from dataset as it contains the date 1st Jan of fire year.\n",
    "months = {'Janeiro':'Jan', 'Fevereiro':'Feb', 'Março':'Mar', 'Abril':'Apr', 'Maio':'May', 'Junho':'June', 'Julho': 'July',\n",
    "       'Agosto':'Aug', 'Setembro':'Sept', 'Outubro':'Oct', 'Novembro': 'Nov', 'Dezembro':'Dec'}\n",
    "df['month'] = df['month'].apply(lambda x: months[x]) #translating month name to English.\n",
    "df['number'] = df['number'].round(0) # Rounding off the number of forest fires to integers\n",
    "df.head()"
   ]
  },
  {
   "cell_type": "code",
   "execution_count": 3,
   "metadata": {},
   "outputs": [],
   "source": [
    "# Plotting yearly count trend of fires.\n",
    "fires = df[['year', 'number']].groupby(['year']).sum()\n",
    "fires = fires.reset_index()\n",
    "state_wise = df.groupby(['state', 'year']).sum().reset_index()"
   ]
  },
  {
   "cell_type": "code",
   "execution_count": 4,
   "metadata": {},
   "outputs": [
    {
     "data": {
      "text/html": [
       "<div>\n",
       "<style scoped>\n",
       "    .dataframe tbody tr th:only-of-type {\n",
       "        vertical-align: middle;\n",
       "    }\n",
       "\n",
       "    .dataframe tbody tr th {\n",
       "        vertical-align: top;\n",
       "    }\n",
       "\n",
       "    .dataframe thead th {\n",
       "        text-align: right;\n",
       "    }\n",
       "</style>\n",
       "<table border=\"1\" class=\"dataframe\">\n",
       "  <thead>\n",
       "    <tr style=\"text-align: right;\">\n",
       "      <th></th>\n",
       "      <th>state</th>\n",
       "      <th>number</th>\n",
       "    </tr>\n",
       "  </thead>\n",
       "  <tbody>\n",
       "    <tr>\n",
       "      <td>0</td>\n",
       "      <td>Mato Grosso</td>\n",
       "      <td>96238.0</td>\n",
       "    </tr>\n",
       "    <tr>\n",
       "      <td>1</td>\n",
       "      <td>Paraiba</td>\n",
       "      <td>52435.0</td>\n",
       "    </tr>\n",
       "    <tr>\n",
       "      <td>2</td>\n",
       "      <td>Sao Paulo</td>\n",
       "      <td>51121.0</td>\n",
       "    </tr>\n",
       "    <tr>\n",
       "      <td>3</td>\n",
       "      <td>Rio</td>\n",
       "      <td>45160.0</td>\n",
       "    </tr>\n",
       "    <tr>\n",
       "      <td>4</td>\n",
       "      <td>Bahia</td>\n",
       "      <td>44745.0</td>\n",
       "    </tr>\n",
       "    <tr>\n",
       "      <td>5</td>\n",
       "      <td>Piau</td>\n",
       "      <td>37801.0</td>\n",
       "    </tr>\n",
       "    <tr>\n",
       "      <td>6</td>\n",
       "      <td>Goias</td>\n",
       "      <td>37692.0</td>\n",
       "    </tr>\n",
       "    <tr>\n",
       "      <td>7</td>\n",
       "      <td>Minas Gerais</td>\n",
       "      <td>37474.0</td>\n",
       "    </tr>\n",
       "    <tr>\n",
       "      <td>8</td>\n",
       "      <td>Tocantins</td>\n",
       "      <td>33706.0</td>\n",
       "    </tr>\n",
       "    <tr>\n",
       "      <td>9</td>\n",
       "      <td>Amazonas</td>\n",
       "      <td>30647.0</td>\n",
       "    </tr>\n",
       "  </tbody>\n",
       "</table>\n",
       "</div>"
      ],
      "text/plain": [
       "          state   number\n",
       "0   Mato Grosso  96238.0\n",
       "1       Paraiba  52435.0\n",
       "2     Sao Paulo  51121.0\n",
       "3           Rio  45160.0\n",
       "4         Bahia  44745.0\n",
       "5          Piau  37801.0\n",
       "6         Goias  37692.0\n",
       "7  Minas Gerais  37474.0\n",
       "8     Tocantins  33706.0\n",
       "9      Amazonas  30647.0"
      ]
     },
     "execution_count": 4,
     "metadata": {},
     "output_type": "execute_result"
    }
   ],
   "source": [
    "state_wise[['state', 'number']].groupby(['state']).sum().sort_values(by = ['number'], ascending = False).head(10).reset_index()"
   ]
  },
  {
   "cell_type": "markdown",
   "metadata": {},
   "source": [
    "We will also visualize the fire counts of each state individually."
   ]
  },
  {
   "cell_type": "code",
   "execution_count": 5,
   "metadata": {},
   "outputs": [
    {
     "data": {
      "application/vnd.jupyter.widget-view+json": {
       "model_id": "52704f556bab423db3ddf20ad933d96b",
       "version_major": 2,
       "version_minor": 0
      },
      "text/plain": [
       "interactive(children=(Dropdown(description='state', options=('Acre', 'Alagoas', 'Amapa', 'Amazonas', 'Bahia', …"
      ]
     },
     "metadata": {},
     "output_type": "display_data"
    }
   ],
   "source": [
    "@interact (state = ['Acre', 'Alagoas', 'Amapa', 'Amazonas', 'Bahia', 'Ceara',\n",
    "       'Distrito Federal', 'Espirito Santo', 'Goias', 'Maranhao',\n",
    "       'Mato Grosso', 'Minas Gerais', 'Paraiba', 'Pará', 'Pernambuco',\n",
    "       'Piau', 'Rio', 'Rondonia', 'Roraima', 'Santa Catarina',\n",
    "       'Sao Paulo', 'Sergipe', 'Tocantins'])\n",
    "def plot_graphs(state):\n",
    "    plt.figure(figsize = (16, 6))\n",
    "    sns.set_style(\"whitegrid\")\n",
    "    ax = sns.lineplot(x='year', y='number', data = fires, color = 'red', lw = 4)\n",
    "    ax = sns.lineplot(x='year', y='number', data = state_wise[state_wise['state'] == state], color = 'orange', lw = 4)\n",
    "    ax.set(xlabel='Year', ylabel='Number of Fires', title = 'Forest Fires in ' + state)\n",
    "    ax.xaxis.set_major_locator(plt.MaxNLocator(21))\n",
    "    ax.yaxis.set_major_locator(plt.MaxNLocator(15))\n",
    "    ax.set_xlim(1998, 2018)\n",
    "    ax.get_yaxis().set_major_formatter(plt.FuncFormatter(lambda x, p: format(int(x), ',')))\n",
    "    plt.show()"
   ]
  },
  {
   "cell_type": "code",
   "execution_count": 11,
   "metadata": {},
   "outputs": [
    {
     "data": {
      "image/png": "[encoded data removed]",
      "text/plain": [
       "<Figure size 1152x432 with 1 Axes>"
      ]
     },
     "metadata": {},
     "output_type": "display_data"
    }
   ],
   "source": [
    "# As Interactive graphs don't work on published notebooks, this cell outputs static graph for 'Acre' state.\n",
    "plot_graphs('Acre')"
   ]
  },
  {
   "cell_type": "markdown",
   "metadata": {},
   "source": [
    "Looking at graphs above, we cannot come to the conclusion that fire count has been increasing or decreasing over the years. It seems to be random."
   ]
  },
  {
   "cell_type": "code",
   "execution_count": 12,
   "metadata": {},
   "outputs": [],
   "source": [
    "month_wise = df[['month', 'number']].groupby(['month']).mean().reset_index()"
   ]
  },
  {
   "cell_type": "code",
   "execution_count": 13,
   "metadata": {},
   "outputs": [
    {
     "data": {
      "text/plain": [
       "<matplotlib.axes._subplots.AxesSubplot at 0x1c45fe6f048>"
      ]
     },
     "execution_count": 13,
     "metadata": {},
     "output_type": "execute_result"
    },
    {
     "data": {
      "image/png": "[encoded data removed]",
      "text/plain": [
       "<Figure size 1152x720 with 1 Axes>"
      ]
     },
     "metadata": {},
     "output_type": "display_data"
    }
   ],
   "source": [
    "plt.figure(figsize = (16,10))\n",
    "sns.barplot(x = 'month', y = 'number', data = month_wise, palette = 'magma_r', order = ['Jan', 'Feb', 'Mar', 'Apr', 'May', 'June', 'July', 'Aug', 'Sept', 'Oct', 'Nov', 'Dec'])"
   ]
  },
  {
   "cell_type": "markdown",
   "metadata": {},
   "source": [
    "The second half of the year sees a higher number of forest fires. July-Dec period sees more than 100 fires every month on average.July tops the charts with more than 160 fires each year on average, which is expected as July sees highest temperatures of the year."
   ]
  },
  {
   "cell_type": "code",
   "execution_count": null,
   "metadata": {},
   "outputs": [],
   "source": [
    "END"
   ]
  }
 ],
 "metadata": {
  "kernelspec": {
   "display_name": "Python 3",
   "language": "python",
   "name": "python3"
  },
  "language_info": {
   "codemirror_mode": {
    "name": "ipython",
    "version": 3
   },
   "file_extension": ".py",
   "mimetype": "text/x-python",
   "name": "python",
   "nbconvert_exporter": "python",
   "pygments_lexer": "ipython3",
   "version": "3.7.4"
  }
 },
 "nbformat": 4,
 "nbformat_minor": 2
}
